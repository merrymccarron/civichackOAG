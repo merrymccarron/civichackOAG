{
 "metadata": {
  "name": "",
  "signature": "sha256:728aaf27a05f93c618f81a2242174272a15ffbf0963f064324c8594832c3c401"
 },
 "nbformat": 3,
 "nbformat_minor": 0,
 "worksheets": [
  {
   "cells": [
    {
     "cell_type": "code",
     "collapsed": false,
     "input": [
      "# See https://fedorahosted.org/suds/wiki/Documentation\n",
      "\n",
      "from suds.client import Client\n",
      "from suds.wsse import *\n",
      "url = 'https://nyopengovernment.com/NYOpenGOVWS/NYOpenGOVSimpleSearchPort?wsdl'\n",
      "client = Client(url)"
     ],
     "language": "python",
     "metadata": {},
     "outputs": [],
     "prompt_number": 1
    },
    {
     "cell_type": "code",
     "collapsed": false,
     "input": [
      "print client"
     ],
     "language": "python",
     "metadata": {},
     "outputs": [
      {
       "output_type": "stream",
       "stream": "stdout",
       "text": [
        "\n",
        "Suds ( https://fedorahosted.org/suds/ )  version: 0.4 GA  build: R699-20100913\n",
        "\n",
        "Service ( NYOpenGOVSimpleSearchService ) tns=\"http://SimpleSearch.NYOpenGOV/\"\n",
        "   Prefixes (1)\n",
        "      ns0 = \"http://SimpleSearch.NYOpenGOV/\"\n",
        "   Ports (1):\n",
        "      (NYOpenGOVSimpleSearchPort)\n",
        "         Methods (10):\n",
        "            getBillsSimple(xs:string SimpleSearchString, )\n",
        "            getCampaignContributionSimpleSearch(xs:string SimpleSearchString, )\n",
        "            getCampaignExpenseSimpleSearch(xs:string SimpleSearchString, )\n",
        "            getCharitiesSimpleSearch(xs:string SimpleSearchString, )\n",
        "            getLobbyingClientsSimpleSearch(xs:string SimpleSearchString, )\n",
        "            getMemberItemSimpleSearch(xs:string SimpleSearchString, )\n",
        "            getRetainedLobbyistSimpleSearch(xs:string SimpleSearchString, )\n",
        "            getStateContractsSimpleSearch(xs:string SimpleSearchString, )\n",
        "            getStateCorporationsSimpleSearch(xs:string SimpleSearchString, )\n",
        "            getStateElectedOficialsSimpleSearch(xs:string SimpleSearchString, )\n",
        "         Types (30):\n",
        "            bills\n",
        "            campaignContribution\n",
        "            campaignExpense\n",
        "            charities\n",
        "            getBillsSimple\n",
        "            getBillsSimpleResponse\n",
        "            getCampaignContributionSimpleSearch\n",
        "            getCampaignContributionSimpleSearchResponse\n",
        "            getCampaignExpenseSimpleSearch\n",
        "            getCampaignExpenseSimpleSearchResponse\n",
        "            getCharitiesSimpleSearch\n",
        "            getCharitiesSimpleSearchResponse\n",
        "            getLobbyingClientsSimpleSearch\n",
        "            getLobbyingClientsSimpleSearchResponse\n",
        "            getMemberItemSimpleSearch\n",
        "            getMemberItemSimpleSearchResponse\n",
        "            getRetainedLobbyistSimpleSearch\n",
        "            getRetainedLobbyistSimpleSearchResponse\n",
        "            getStateContractsSimpleSearch\n",
        "            getStateContractsSimpleSearchResponse\n",
        "            getStateCorporationsSimpleSearch\n",
        "            getStateCorporationsSimpleSearchResponse\n",
        "            getStateElectedOficialsSimpleSearch\n",
        "            getStateElectedOficialsSimpleSearchResponse\n",
        "            lobbyingClients\n",
        "            memberItems\n",
        "            retainedLobbyist\n",
        "            stateContracts\n",
        "            stateCorporations\n",
        "            stateElectedOficials\n",
        "\n",
        "\n"
       ]
      }
     ],
     "prompt_number": 2
    },
    {
     "cell_type": "code",
     "collapsed": false,
     "input": [
      "# see https://fedorahosted.org/suds/ticket/288\n",
      "\n",
      "security = Security()\n",
      "security.tokens.append(UsernameToken('BJELLIN','4UTH3NT1'))\n",
      "client.set_options(wsse=security)"
     ],
     "language": "python",
     "metadata": {},
     "outputs": [],
     "prompt_number": 3
    },
    {
     "cell_type": "code",
     "collapsed": false,
     "input": [
      "result = client.service.getStateCorporationsSimpleSearch('Microsoft')\n",
      "for item in result:\n",
      "    print item.corporationName, \" @ \", item.address"
     ],
     "language": "python",
     "metadata": {},
     "outputs": [
      {
       "output_type": "stream",
       "stream": "stdout",
       "text": [
        "SPASCO LLC  @  58 RAILROAD AVE, STATEN ISLAND, NEW YORK, 10305\n",
        "MICROSOFT PAYMENTS, INC.  @  80 STATE STREET, ALBANY, NEW YORK, 12207-2543\n",
        "MICROSOFT FINANCING CORPORATION  @  80 STATE STREET, ALBANY, NEW YORK, 12207-2543\n",
        "MICROSOFT DEVELOPMENT INC  @  SUITE #150 2188 NESCONSET HWY, STONYBROOK, NEW YORK, 11790\n",
        "THE MICROSOFT OFFICE SUITE USERS' GROUP, INC.  @  767 THIRD AVENUE, NEW YORK, NEW YORK, 10017\n",
        "MICROSOFT HOMEADVISOR, LLC  @  ATTN: BEN ORNDORFF ONE MICROSOFT WAY, REDMOND, WASHINGTON, 98052-6399\n",
        "RIGHTS SOLUTIONS, INC.  @  ONE MICROSOFT WAY, REDMOND, WASHINGTON, 98052-6399\n",
        "MICROSOFT BUSINESS SOLUTIONS CORPORATION  @  80 STATE STREET, ALBANY, NEW YORK, 12207-2543\n",
        "MICROSOFT CORPORATION  @  80 STATE ST, ALBANY, NEW YORK, 12207-2543\n",
        "MICROSOFT REAL ESTATE INC.  @  199 LEE AVE SUITE 338, BROOKLYN, NEW YORK, 11211\n",
        "MICROSOFT CORPORATION  @  1633 BROADWAY, NEW YORK, NEW YORK, 10019\n",
        "NAVIC SYSTEMS, INC.  @  ONE MICROSOFT WAY BLDG. 8, REDMOND, WASHINGTON, 98052-6399\n"
       ]
      }
     ],
     "prompt_number": 4
    },
    {
     "cell_type": "code",
     "collapsed": false,
     "input": [
      "result = client.service.getStateCorporationsSimpleSearch('e')\n",
      "for item in result:\n",
      "    print item.corporationName, \" @ \", item.address"
     ],
     "language": "python",
     "metadata": {},
     "outputs": [
      {
       "output_type": "stream",
       "stream": "stdout",
       "text": [
        "29 DIAMONDS 5, LLC  @  1553 E. MAINE ROAD, JOHNSON CITY, NEW YORK, 13790\n",
        "A E J CONSTRUCTION INC  @  53-46 70 STREET 1FL, MASPETH, NEW YORK, 11378\n",
        "B & L MACHINE SHOP, INC.  @  1674 E CARTER AVENUE, BRONX, NEW YORK, 10457\n",
        "C.H.E.K. P.A.D., INC.  @  20 E. SALEM ROAD, FISHKILL, NEW YORK, 12524\n",
        "AMUKE REALTY CORP.  @  46 E SEVENTH ST / #1, NEW YORK, NEW YORK, 10003\n",
        "EDELWEISS FLORIST & GIFTS, INC.  @  2010 E MAIN ST, ENDICOTT, NEW YORK, 13761-0303\n",
        "ALBERTO ASSETS, INC.  @  277 E.207TH ST, BRONX, NEW YORK, 10467\n",
        "V. E. POWER DOOR CO. INC.  @  140 EMJAY BOULEVARD, BRENTWOOD, NEW YORK, 11717-3322\n",
        "TEX INDUSTRIES, INC.  @  115 E. 34TH ST., NEW YORK, NEW YORK, 10016\n",
        "ABBOTT BROOKS LAND COMPANY, INC.  @  10 E. 53RD ST., NEW YORK, NEW YORK, 10022\n",
        "CRAIG DEVELOPMENT CORPORATION  @  7767 E. QUAKER ROAD, ORCHARD PARK, NEW YORK, 14127\n",
        "91 TOWER STREET INC.  @  741 E. MAIN STREET, KINGS PARK, NEW YORK, 11754\n",
        "OLD COUNTRY GOLD & SILVER LIMITED  @  325 E 41ST ST, NEW YORK, NEW YORK, 10017\n",
        "E.S.Y. COMPUTER ASSOCIATES, INC.  @  2406 AVENUE P, BROOKLYN, NEW YORK, 11229\n",
        "DIRECTED LEASING CORPORATION  @  877 E. 10TH STREET SUITE 101, BROOKLYN, NEW YORK, 11230\n",
        "R.G.R. TRANSPORT CORP.  @  305 E. 7TH ST., BROOKLYN, NEW YORK, 11218\n",
        "AMERICAN FRIENDS OF CONTEMPORARY RUSSIAN ART, INC.  @  504 E. 81ST ST., NEW YORK, NEW YORK, 10028\n",
        "ENTERPRISE SPORTSWEAR INC.  @  120 E. BWAY, NEW YORK, NEW YORK, 10002\n",
        "PICTURESHAY LTD.  @  39 E. 12TH ST. STE 801, NEW YORK, NEW YORK, 10003\n",
        "E.A.A. REST. CORP.  @  76-18 ROCKAWAY BLVD., WOODHAVEN, NEW YORK, 11421\n"
       ]
      }
     ],
     "prompt_number": 5
    },
    {
     "cell_type": "code",
     "collapsed": false,
     "input": [
      "print len(result)"
     ],
     "language": "python",
     "metadata": {},
     "outputs": [
      {
       "output_type": "stream",
       "stream": "stdout",
       "text": [
        "20\n"
       ]
      }
     ],
     "prompt_number": 9
    },
    {
     "cell_type": "code",
     "collapsed": false,
     "input": [
      "import requests\n",
      "from suds.transport.http import HttpAuthenticated\n",
      "from suds.transport import Reply, TransportError\n",
      "\n",
      "class RequestsTransport(HttpAuthenticated):\n",
      "    def __init__(self, **kwargs):\n",
      "        self.cert = kwargs.pop('cert', None)\n",
      "        # super won't work because not using new style class\n",
      "        HttpAuthenticated.__init__(self, **kwargs)\n",
      "\n",
      "    def send(self, request):\n",
      "        self.addcredentials(request)\n",
      "        resp = requests.post(request.url, data=request.message,\n",
      "                             headers=request.headers, cert=self.cert)\n",
      "        result = Reply(resp.status_code, resp.headers, resp.content)\n",
      "        return result\n",
      "    \n",
      "    \n",
      "    \n",
      "headers = {\"Content-TYpe\" : \"text/xml;charset=UTF-8\",\n",
      "           \"SOAPAction\" : \"\"}\n",
      "t = RequestsTransport(cert='/path/to/cert', **credentials)\n",
      "client = Client(wsdl_uri, location=send_url, headers=headers,\n",
      "                transport=t))"
     ],
     "language": "python",
     "metadata": {},
     "outputs": []
    }
   ],
   "metadata": {}
  }
 ]
}